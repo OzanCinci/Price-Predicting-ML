{
 "cells": [
  {
   "cell_type": "markdown",
   "id": "9118749c",
   "metadata": {},
   "source": [
    "#  Predicting the Sale Price of Bulldozers using Machine Learning"
   ]
  },
  {
   "cell_type": "markdown",
   "id": "2a541e65",
   "metadata": {},
   "source": [
    "In this notebook, we're going to go through a machine learning project with the goal of predicting the sale price of bulldozers with RandomForestRegressor."
   ]
  },
  {
   "cell_type": "markdown",
   "id": "1e0f852b",
   "metadata": {},
   "source": [
    "## 1. Problem defition"
   ]
  },
  {
   "cell_type": "markdown",
   "id": "f6013729",
   "metadata": {},
   "source": [
    "How well can we predict the future sale price of a bulldozer, given its characteristics and previous examples of how much similar bulldozers have been sold for?"
   ]
  },
  {
   "cell_type": "markdown",
   "id": "298a34c3",
   "metadata": {},
   "source": [
    "## 2. Data "
   ]
  },
  {
   "cell_type": "markdown",
   "id": "7a9f27b0",
   "metadata": {},
   "source": [
    "The data is downloaded from the Kaggle Bluebook for Bulldozers competition: https://www.kaggle.com/c/bluebook-for-bulldozers/data\n",
    "\n",
    "There are 3 main datasets:\n",
    "\n",
    "* Train.csv is the training set, which contains data through the end of 2011.\n",
    "* Valid.csv is the validation set, which contains data from January 1, 2012 - April 30, 2012 We make predictions on this set throughout the majority of the competition. Your score on this set is used to create the public leaderboard.\n",
    "* Test.csv is the test set, which won't be released until the last week of the competition. It contains data from May 1, 2012 - November 2012. Your score on the test set determines your final rank for the competition."
   ]
  },
  {
   "cell_type": "markdown",
   "id": "8c5f48a5",
   "metadata": {},
   "source": [
    "## 3. Evaluation"
   ]
  },
  {
   "cell_type": "markdown",
   "id": "629063db",
   "metadata": {},
   "source": [
    "The evaluation metric for this competition is the RMSLE (root mean squared log error) between the actual and predicted auction prices.\n",
    "\n",
    "For more on the evaluation of this project check: https://www.kaggle.com/c/bluebook-for-bulldozers/overview/evaluation\n",
    "\n",
    "Note: The goal for most regression evaluation metrics is to minimize the error. For example, our goal for this project will be to build a machine learning model which minimises RMSLE."
   ]
  },
  {
   "cell_type": "markdown",
   "id": "28f715dd",
   "metadata": {},
   "source": [
    "## 4. Features"
   ]
  },
  {
   "cell_type": "markdown",
   "id": "754cfda2",
   "metadata": {},
   "source": [
    "Kaggle provides a data dictionary detailing all of the features of the dataset. You can view this data dictionary on Google Sheets: https://docs.google.com/spreadsheets/d/18ly-bLR8sbDJLITkWG7ozKm8l3RyieQ2Fpgix-beSYI/edit?usp=sharing"
   ]
  },
  {
   "cell_type": "code",
   "execution_count": 42,
   "id": "f3ec7e5b",
   "metadata": {},
   "outputs": [],
   "source": [
    "# All necessary importings.\n",
    "\n",
    "import pandas as pd\n",
    "import numpy as np\n",
    "import matplotlib.pyplot as plt\n",
    "\n",
    "from sklearn.metrics import mean_squared_log_error\n",
    "from sklearn.metrics import make_scorer\n",
    "\n",
    "from sklearn.ensemble import RandomForestRegressor\n",
    "\n",
    "from sklearn.model_selection import GridSearchCV"
   ]
  },
  {
   "cell_type": "code",
   "execution_count": 45,
   "id": "eb9fa635",
   "metadata": {},
   "outputs": [
    {
     "name": "stdout",
     "output_type": "stream",
     "text": [
      "data_train shape: (401125, 53)\n"
     ]
    },
    {
     "data": {
      "text/html": [
       "<div>\n",
       "<style scoped>\n",
       "    .dataframe tbody tr th:only-of-type {\n",
       "        vertical-align: middle;\n",
       "    }\n",
       "\n",
       "    .dataframe tbody tr th {\n",
       "        vertical-align: top;\n",
       "    }\n",
       "\n",
       "    .dataframe thead th {\n",
       "        text-align: right;\n",
       "    }\n",
       "</style>\n",
       "<table border=\"1\" class=\"dataframe\">\n",
       "  <thead>\n",
       "    <tr style=\"text-align: right;\">\n",
       "      <th></th>\n",
       "      <th>0</th>\n",
       "      <th>1</th>\n",
       "      <th>2</th>\n",
       "    </tr>\n",
       "  </thead>\n",
       "  <tbody>\n",
       "    <tr>\n",
       "      <th>SalesID</th>\n",
       "      <td>1139246</td>\n",
       "      <td>1139248</td>\n",
       "      <td>1139249</td>\n",
       "    </tr>\n",
       "    <tr>\n",
       "      <th>SalePrice</th>\n",
       "      <td>66000</td>\n",
       "      <td>57000</td>\n",
       "      <td>10000</td>\n",
       "    </tr>\n",
       "    <tr>\n",
       "      <th>MachineID</th>\n",
       "      <td>999089</td>\n",
       "      <td>117657</td>\n",
       "      <td>434808</td>\n",
       "    </tr>\n",
       "    <tr>\n",
       "      <th>ModelID</th>\n",
       "      <td>3157</td>\n",
       "      <td>77</td>\n",
       "      <td>7009</td>\n",
       "    </tr>\n",
       "    <tr>\n",
       "      <th>datasource</th>\n",
       "      <td>121</td>\n",
       "      <td>121</td>\n",
       "      <td>121</td>\n",
       "    </tr>\n",
       "    <tr>\n",
       "      <th>auctioneerID</th>\n",
       "      <td>3.0</td>\n",
       "      <td>3.0</td>\n",
       "      <td>3.0</td>\n",
       "    </tr>\n",
       "    <tr>\n",
       "      <th>YearMade</th>\n",
       "      <td>2004</td>\n",
       "      <td>1996</td>\n",
       "      <td>2001</td>\n",
       "    </tr>\n",
       "    <tr>\n",
       "      <th>MachineHoursCurrentMeter</th>\n",
       "      <td>68.0</td>\n",
       "      <td>4640.0</td>\n",
       "      <td>2838.0</td>\n",
       "    </tr>\n",
       "    <tr>\n",
       "      <th>UsageBand</th>\n",
       "      <td>Low</td>\n",
       "      <td>Low</td>\n",
       "      <td>High</td>\n",
       "    </tr>\n",
       "    <tr>\n",
       "      <th>saledate</th>\n",
       "      <td>11/16/2006 0:00</td>\n",
       "      <td>3/26/2004 0:00</td>\n",
       "      <td>2/26/2004 0:00</td>\n",
       "    </tr>\n",
       "    <tr>\n",
       "      <th>fiModelDesc</th>\n",
       "      <td>521D</td>\n",
       "      <td>950FII</td>\n",
       "      <td>226</td>\n",
       "    </tr>\n",
       "    <tr>\n",
       "      <th>fiBaseModel</th>\n",
       "      <td>521</td>\n",
       "      <td>950</td>\n",
       "      <td>226</td>\n",
       "    </tr>\n",
       "    <tr>\n",
       "      <th>fiSecondaryDesc</th>\n",
       "      <td>D</td>\n",
       "      <td>F</td>\n",
       "      <td>NaN</td>\n",
       "    </tr>\n",
       "    <tr>\n",
       "      <th>fiModelSeries</th>\n",
       "      <td>NaN</td>\n",
       "      <td>II</td>\n",
       "      <td>NaN</td>\n",
       "    </tr>\n",
       "    <tr>\n",
       "      <th>fiModelDescriptor</th>\n",
       "      <td>NaN</td>\n",
       "      <td>NaN</td>\n",
       "      <td>NaN</td>\n",
       "    </tr>\n",
       "    <tr>\n",
       "      <th>ProductSize</th>\n",
       "      <td>NaN</td>\n",
       "      <td>Medium</td>\n",
       "      <td>NaN</td>\n",
       "    </tr>\n",
       "    <tr>\n",
       "      <th>fiProductClassDesc</th>\n",
       "      <td>Wheel Loader - 110.0 to 120.0 Horsepower</td>\n",
       "      <td>Wheel Loader - 150.0 to 175.0 Horsepower</td>\n",
       "      <td>Skid Steer Loader - 1351.0 to 1601.0 Lb Operat...</td>\n",
       "    </tr>\n",
       "    <tr>\n",
       "      <th>state</th>\n",
       "      <td>Alabama</td>\n",
       "      <td>North Carolina</td>\n",
       "      <td>New York</td>\n",
       "    </tr>\n",
       "    <tr>\n",
       "      <th>ProductGroup</th>\n",
       "      <td>WL</td>\n",
       "      <td>WL</td>\n",
       "      <td>SSL</td>\n",
       "    </tr>\n",
       "    <tr>\n",
       "      <th>ProductGroupDesc</th>\n",
       "      <td>Wheel Loader</td>\n",
       "      <td>Wheel Loader</td>\n",
       "      <td>Skid Steer Loaders</td>\n",
       "    </tr>\n",
       "    <tr>\n",
       "      <th>Drive_System</th>\n",
       "      <td>NaN</td>\n",
       "      <td>NaN</td>\n",
       "      <td>NaN</td>\n",
       "    </tr>\n",
       "    <tr>\n",
       "      <th>Enclosure</th>\n",
       "      <td>EROPS w AC</td>\n",
       "      <td>EROPS w AC</td>\n",
       "      <td>OROPS</td>\n",
       "    </tr>\n",
       "    <tr>\n",
       "      <th>Forks</th>\n",
       "      <td>None or Unspecified</td>\n",
       "      <td>None or Unspecified</td>\n",
       "      <td>None or Unspecified</td>\n",
       "    </tr>\n",
       "    <tr>\n",
       "      <th>Pad_Type</th>\n",
       "      <td>NaN</td>\n",
       "      <td>NaN</td>\n",
       "      <td>NaN</td>\n",
       "    </tr>\n",
       "    <tr>\n",
       "      <th>Ride_Control</th>\n",
       "      <td>None or Unspecified</td>\n",
       "      <td>None or Unspecified</td>\n",
       "      <td>NaN</td>\n",
       "    </tr>\n",
       "    <tr>\n",
       "      <th>Stick</th>\n",
       "      <td>NaN</td>\n",
       "      <td>NaN</td>\n",
       "      <td>NaN</td>\n",
       "    </tr>\n",
       "    <tr>\n",
       "      <th>Transmission</th>\n",
       "      <td>NaN</td>\n",
       "      <td>NaN</td>\n",
       "      <td>NaN</td>\n",
       "    </tr>\n",
       "    <tr>\n",
       "      <th>Turbocharged</th>\n",
       "      <td>NaN</td>\n",
       "      <td>NaN</td>\n",
       "      <td>NaN</td>\n",
       "    </tr>\n",
       "    <tr>\n",
       "      <th>Blade_Extension</th>\n",
       "      <td>NaN</td>\n",
       "      <td>NaN</td>\n",
       "      <td>NaN</td>\n",
       "    </tr>\n",
       "    <tr>\n",
       "      <th>Blade_Width</th>\n",
       "      <td>NaN</td>\n",
       "      <td>NaN</td>\n",
       "      <td>NaN</td>\n",
       "    </tr>\n",
       "    <tr>\n",
       "      <th>Enclosure_Type</th>\n",
       "      <td>NaN</td>\n",
       "      <td>NaN</td>\n",
       "      <td>NaN</td>\n",
       "    </tr>\n",
       "    <tr>\n",
       "      <th>Engine_Horsepower</th>\n",
       "      <td>NaN</td>\n",
       "      <td>NaN</td>\n",
       "      <td>NaN</td>\n",
       "    </tr>\n",
       "    <tr>\n",
       "      <th>Hydraulics</th>\n",
       "      <td>2 Valve</td>\n",
       "      <td>2 Valve</td>\n",
       "      <td>Auxiliary</td>\n",
       "    </tr>\n",
       "    <tr>\n",
       "      <th>Pushblock</th>\n",
       "      <td>NaN</td>\n",
       "      <td>NaN</td>\n",
       "      <td>NaN</td>\n",
       "    </tr>\n",
       "    <tr>\n",
       "      <th>Ripper</th>\n",
       "      <td>NaN</td>\n",
       "      <td>NaN</td>\n",
       "      <td>NaN</td>\n",
       "    </tr>\n",
       "    <tr>\n",
       "      <th>Scarifier</th>\n",
       "      <td>NaN</td>\n",
       "      <td>NaN</td>\n",
       "      <td>NaN</td>\n",
       "    </tr>\n",
       "    <tr>\n",
       "      <th>Tip_Control</th>\n",
       "      <td>NaN</td>\n",
       "      <td>NaN</td>\n",
       "      <td>NaN</td>\n",
       "    </tr>\n",
       "    <tr>\n",
       "      <th>Tire_Size</th>\n",
       "      <td>None or Unspecified</td>\n",
       "      <td>23.5</td>\n",
       "      <td>NaN</td>\n",
       "    </tr>\n",
       "    <tr>\n",
       "      <th>Coupler</th>\n",
       "      <td>None or Unspecified</td>\n",
       "      <td>None or Unspecified</td>\n",
       "      <td>None or Unspecified</td>\n",
       "    </tr>\n",
       "    <tr>\n",
       "      <th>Coupler_System</th>\n",
       "      <td>NaN</td>\n",
       "      <td>NaN</td>\n",
       "      <td>None or Unspecified</td>\n",
       "    </tr>\n",
       "    <tr>\n",
       "      <th>Grouser_Tracks</th>\n",
       "      <td>NaN</td>\n",
       "      <td>NaN</td>\n",
       "      <td>None or Unspecified</td>\n",
       "    </tr>\n",
       "    <tr>\n",
       "      <th>Hydraulics_Flow</th>\n",
       "      <td>NaN</td>\n",
       "      <td>NaN</td>\n",
       "      <td>Standard</td>\n",
       "    </tr>\n",
       "    <tr>\n",
       "      <th>Track_Type</th>\n",
       "      <td>NaN</td>\n",
       "      <td>NaN</td>\n",
       "      <td>NaN</td>\n",
       "    </tr>\n",
       "    <tr>\n",
       "      <th>Undercarriage_Pad_Width</th>\n",
       "      <td>NaN</td>\n",
       "      <td>NaN</td>\n",
       "      <td>NaN</td>\n",
       "    </tr>\n",
       "    <tr>\n",
       "      <th>Stick_Length</th>\n",
       "      <td>NaN</td>\n",
       "      <td>NaN</td>\n",
       "      <td>NaN</td>\n",
       "    </tr>\n",
       "    <tr>\n",
       "      <th>Thumb</th>\n",
       "      <td>NaN</td>\n",
       "      <td>NaN</td>\n",
       "      <td>NaN</td>\n",
       "    </tr>\n",
       "    <tr>\n",
       "      <th>Pattern_Changer</th>\n",
       "      <td>NaN</td>\n",
       "      <td>NaN</td>\n",
       "      <td>NaN</td>\n",
       "    </tr>\n",
       "    <tr>\n",
       "      <th>Grouser_Type</th>\n",
       "      <td>NaN</td>\n",
       "      <td>NaN</td>\n",
       "      <td>NaN</td>\n",
       "    </tr>\n",
       "    <tr>\n",
       "      <th>Backhoe_Mounting</th>\n",
       "      <td>NaN</td>\n",
       "      <td>NaN</td>\n",
       "      <td>NaN</td>\n",
       "    </tr>\n",
       "    <tr>\n",
       "      <th>Blade_Type</th>\n",
       "      <td>NaN</td>\n",
       "      <td>NaN</td>\n",
       "      <td>NaN</td>\n",
       "    </tr>\n",
       "    <tr>\n",
       "      <th>Travel_Controls</th>\n",
       "      <td>NaN</td>\n",
       "      <td>NaN</td>\n",
       "      <td>NaN</td>\n",
       "    </tr>\n",
       "    <tr>\n",
       "      <th>Differential_Type</th>\n",
       "      <td>Standard</td>\n",
       "      <td>Standard</td>\n",
       "      <td>NaN</td>\n",
       "    </tr>\n",
       "    <tr>\n",
       "      <th>Steering_Controls</th>\n",
       "      <td>Conventional</td>\n",
       "      <td>Conventional</td>\n",
       "      <td>NaN</td>\n",
       "    </tr>\n",
       "  </tbody>\n",
       "</table>\n",
       "</div>"
      ],
      "text/plain": [
       "                                                                 0  \\\n",
       "SalesID                                                    1139246   \n",
       "SalePrice                                                    66000   \n",
       "MachineID                                                   999089   \n",
       "ModelID                                                       3157   \n",
       "datasource                                                     121   \n",
       "auctioneerID                                                   3.0   \n",
       "YearMade                                                      2004   \n",
       "MachineHoursCurrentMeter                                      68.0   \n",
       "UsageBand                                                      Low   \n",
       "saledate                                           11/16/2006 0:00   \n",
       "fiModelDesc                                                   521D   \n",
       "fiBaseModel                                                    521   \n",
       "fiSecondaryDesc                                                  D   \n",
       "fiModelSeries                                                  NaN   \n",
       "fiModelDescriptor                                              NaN   \n",
       "ProductSize                                                    NaN   \n",
       "fiProductClassDesc        Wheel Loader - 110.0 to 120.0 Horsepower   \n",
       "state                                                      Alabama   \n",
       "ProductGroup                                                    WL   \n",
       "ProductGroupDesc                                      Wheel Loader   \n",
       "Drive_System                                                   NaN   \n",
       "Enclosure                                               EROPS w AC   \n",
       "Forks                                          None or Unspecified   \n",
       "Pad_Type                                                       NaN   \n",
       "Ride_Control                                   None or Unspecified   \n",
       "Stick                                                          NaN   \n",
       "Transmission                                                   NaN   \n",
       "Turbocharged                                                   NaN   \n",
       "Blade_Extension                                                NaN   \n",
       "Blade_Width                                                    NaN   \n",
       "Enclosure_Type                                                 NaN   \n",
       "Engine_Horsepower                                              NaN   \n",
       "Hydraulics                                                 2 Valve   \n",
       "Pushblock                                                      NaN   \n",
       "Ripper                                                         NaN   \n",
       "Scarifier                                                      NaN   \n",
       "Tip_Control                                                    NaN   \n",
       "Tire_Size                                      None or Unspecified   \n",
       "Coupler                                        None or Unspecified   \n",
       "Coupler_System                                                 NaN   \n",
       "Grouser_Tracks                                                 NaN   \n",
       "Hydraulics_Flow                                                NaN   \n",
       "Track_Type                                                     NaN   \n",
       "Undercarriage_Pad_Width                                        NaN   \n",
       "Stick_Length                                                   NaN   \n",
       "Thumb                                                          NaN   \n",
       "Pattern_Changer                                                NaN   \n",
       "Grouser_Type                                                   NaN   \n",
       "Backhoe_Mounting                                               NaN   \n",
       "Blade_Type                                                     NaN   \n",
       "Travel_Controls                                                NaN   \n",
       "Differential_Type                                         Standard   \n",
       "Steering_Controls                                     Conventional   \n",
       "\n",
       "                                                                 1  \\\n",
       "SalesID                                                    1139248   \n",
       "SalePrice                                                    57000   \n",
       "MachineID                                                   117657   \n",
       "ModelID                                                         77   \n",
       "datasource                                                     121   \n",
       "auctioneerID                                                   3.0   \n",
       "YearMade                                                      1996   \n",
       "MachineHoursCurrentMeter                                    4640.0   \n",
       "UsageBand                                                      Low   \n",
       "saledate                                            3/26/2004 0:00   \n",
       "fiModelDesc                                                 950FII   \n",
       "fiBaseModel                                                    950   \n",
       "fiSecondaryDesc                                                  F   \n",
       "fiModelSeries                                                   II   \n",
       "fiModelDescriptor                                              NaN   \n",
       "ProductSize                                                 Medium   \n",
       "fiProductClassDesc        Wheel Loader - 150.0 to 175.0 Horsepower   \n",
       "state                                               North Carolina   \n",
       "ProductGroup                                                    WL   \n",
       "ProductGroupDesc                                      Wheel Loader   \n",
       "Drive_System                                                   NaN   \n",
       "Enclosure                                               EROPS w AC   \n",
       "Forks                                          None or Unspecified   \n",
       "Pad_Type                                                       NaN   \n",
       "Ride_Control                                   None or Unspecified   \n",
       "Stick                                                          NaN   \n",
       "Transmission                                                   NaN   \n",
       "Turbocharged                                                   NaN   \n",
       "Blade_Extension                                                NaN   \n",
       "Blade_Width                                                    NaN   \n",
       "Enclosure_Type                                                 NaN   \n",
       "Engine_Horsepower                                              NaN   \n",
       "Hydraulics                                                 2 Valve   \n",
       "Pushblock                                                      NaN   \n",
       "Ripper                                                         NaN   \n",
       "Scarifier                                                      NaN   \n",
       "Tip_Control                                                    NaN   \n",
       "Tire_Size                                                     23.5   \n",
       "Coupler                                        None or Unspecified   \n",
       "Coupler_System                                                 NaN   \n",
       "Grouser_Tracks                                                 NaN   \n",
       "Hydraulics_Flow                                                NaN   \n",
       "Track_Type                                                     NaN   \n",
       "Undercarriage_Pad_Width                                        NaN   \n",
       "Stick_Length                                                   NaN   \n",
       "Thumb                                                          NaN   \n",
       "Pattern_Changer                                                NaN   \n",
       "Grouser_Type                                                   NaN   \n",
       "Backhoe_Mounting                                               NaN   \n",
       "Blade_Type                                                     NaN   \n",
       "Travel_Controls                                                NaN   \n",
       "Differential_Type                                         Standard   \n",
       "Steering_Controls                                     Conventional   \n",
       "\n",
       "                                                                          2  \n",
       "SalesID                                                             1139249  \n",
       "SalePrice                                                             10000  \n",
       "MachineID                                                            434808  \n",
       "ModelID                                                                7009  \n",
       "datasource                                                              121  \n",
       "auctioneerID                                                            3.0  \n",
       "YearMade                                                               2001  \n",
       "MachineHoursCurrentMeter                                             2838.0  \n",
       "UsageBand                                                              High  \n",
       "saledate                                                     2/26/2004 0:00  \n",
       "fiModelDesc                                                             226  \n",
       "fiBaseModel                                                             226  \n",
       "fiSecondaryDesc                                                         NaN  \n",
       "fiModelSeries                                                           NaN  \n",
       "fiModelDescriptor                                                       NaN  \n",
       "ProductSize                                                             NaN  \n",
       "fiProductClassDesc        Skid Steer Loader - 1351.0 to 1601.0 Lb Operat...  \n",
       "state                                                              New York  \n",
       "ProductGroup                                                            SSL  \n",
       "ProductGroupDesc                                         Skid Steer Loaders  \n",
       "Drive_System                                                            NaN  \n",
       "Enclosure                                                             OROPS  \n",
       "Forks                                                   None or Unspecified  \n",
       "Pad_Type                                                                NaN  \n",
       "Ride_Control                                                            NaN  \n",
       "Stick                                                                   NaN  \n",
       "Transmission                                                            NaN  \n",
       "Turbocharged                                                            NaN  \n",
       "Blade_Extension                                                         NaN  \n",
       "Blade_Width                                                             NaN  \n",
       "Enclosure_Type                                                          NaN  \n",
       "Engine_Horsepower                                                       NaN  \n",
       "Hydraulics                                                        Auxiliary  \n",
       "Pushblock                                                               NaN  \n",
       "Ripper                                                                  NaN  \n",
       "Scarifier                                                               NaN  \n",
       "Tip_Control                                                             NaN  \n",
       "Tire_Size                                                               NaN  \n",
       "Coupler                                                 None or Unspecified  \n",
       "Coupler_System                                          None or Unspecified  \n",
       "Grouser_Tracks                                          None or Unspecified  \n",
       "Hydraulics_Flow                                                    Standard  \n",
       "Track_Type                                                              NaN  \n",
       "Undercarriage_Pad_Width                                                 NaN  \n",
       "Stick_Length                                                            NaN  \n",
       "Thumb                                                                   NaN  \n",
       "Pattern_Changer                                                         NaN  \n",
       "Grouser_Type                                                            NaN  \n",
       "Backhoe_Mounting                                                        NaN  \n",
       "Blade_Type                                                              NaN  \n",
       "Travel_Controls                                                         NaN  \n",
       "Differential_Type                                                       NaN  \n",
       "Steering_Controls                                                       NaN  "
      ]
     },
     "execution_count": 45,
     "metadata": {},
     "output_type": "execute_result"
    }
   ],
   "source": [
    "# Exploring train data.\n",
    "\n",
    "data_train = pd.read_csv(\"data/Train.csv\",low_memory=False)\n",
    "\n",
    "# Let's save shape and columns' names of pure training data for later use.\n",
    "pure_training_shape = data_train.shape\n",
    "pute_training_columns = data_train.columns\n",
    "\n",
    "print(f\"data_train shape: {data_train.shape}\")\n",
    "data_train.head(3).T"
   ]
  },
  {
   "cell_type": "code",
   "execution_count": 46,
   "id": "4cb71c31",
   "metadata": {},
   "outputs": [
    {
     "data": {
      "text/plain": [
       "SalesID                          0\n",
       "SalePrice                        0\n",
       "MachineID                        0\n",
       "ModelID                          0\n",
       "datasource                       0\n",
       "auctioneerID                 20136\n",
       "YearMade                         0\n",
       "MachineHoursCurrentMeter    258360\n",
       "UsageBand                   331486\n",
       "saledate                         0\n",
       "fiModelDesc                      0\n",
       "fiBaseModel                      0\n",
       "fiSecondaryDesc             137191\n",
       "fiModelSeries               344217\n",
       "fiModelDescriptor           329206\n",
       "ProductSize                 210775\n",
       "fiProductClassDesc               0\n",
       "state                            0\n",
       "ProductGroup                     0\n",
       "ProductGroupDesc                 0\n",
       "Drive_System                296764\n",
       "Enclosure                      325\n",
       "Forks                       209048\n",
       "Pad_Type                    321991\n",
       "Ride_Control                252519\n",
       "Stick                       321991\n",
       "Transmission                217895\n",
       "Turbocharged                321991\n",
       "Blade_Extension             375906\n",
       "Blade_Width                 375906\n",
       "Enclosure_Type              375906\n",
       "Engine_Horsepower           375906\n",
       "Hydraulics                   80555\n",
       "Pushblock                   375906\n",
       "Ripper                      296988\n",
       "Scarifier                   375895\n",
       "Tip_Control                 375906\n",
       "Tire_Size                   306407\n",
       "Coupler                     187173\n",
       "Coupler_System              357667\n",
       "Grouser_Tracks              357763\n",
       "Hydraulics_Flow             357763\n",
       "Track_Type                  301972\n",
       "Undercarriage_Pad_Width     301253\n",
       "Stick_Length                301907\n",
       "Thumb                       301837\n",
       "Pattern_Changer             301907\n",
       "Grouser_Type                301972\n",
       "Backhoe_Mounting            322453\n",
       "Blade_Type                  321292\n",
       "Travel_Controls             321291\n",
       "Differential_Type           331714\n",
       "Steering_Controls           331756\n",
       "dtype: int64"
      ]
     },
     "execution_count": 46,
     "metadata": {},
     "output_type": "execute_result"
    }
   ],
   "source": [
    "# Exploring train data.\n",
    "data_train.isna().sum()"
   ]
  },
  {
   "cell_type": "code",
   "execution_count": 47,
   "id": "255e511d",
   "metadata": {},
   "outputs": [
    {
     "data": {
      "text/plain": [
       "SalesID                       int64\n",
       "SalePrice                     int64\n",
       "MachineID                     int64\n",
       "ModelID                       int64\n",
       "datasource                    int64\n",
       "auctioneerID                float64\n",
       "YearMade                      int64\n",
       "MachineHoursCurrentMeter    float64\n",
       "UsageBand                    object\n",
       "saledate                     object\n",
       "fiModelDesc                  object\n",
       "fiBaseModel                  object\n",
       "fiSecondaryDesc              object\n",
       "fiModelSeries                object\n",
       "fiModelDescriptor            object\n",
       "ProductSize                  object\n",
       "fiProductClassDesc           object\n",
       "state                        object\n",
       "ProductGroup                 object\n",
       "ProductGroupDesc             object\n",
       "Drive_System                 object\n",
       "Enclosure                    object\n",
       "Forks                        object\n",
       "Pad_Type                     object\n",
       "Ride_Control                 object\n",
       "Stick                        object\n",
       "Transmission                 object\n",
       "Turbocharged                 object\n",
       "Blade_Extension              object\n",
       "Blade_Width                  object\n",
       "Enclosure_Type               object\n",
       "Engine_Horsepower            object\n",
       "Hydraulics                   object\n",
       "Pushblock                    object\n",
       "Ripper                       object\n",
       "Scarifier                    object\n",
       "Tip_Control                  object\n",
       "Tire_Size                    object\n",
       "Coupler                      object\n",
       "Coupler_System               object\n",
       "Grouser_Tracks               object\n",
       "Hydraulics_Flow              object\n",
       "Track_Type                   object\n",
       "Undercarriage_Pad_Width      object\n",
       "Stick_Length                 object\n",
       "Thumb                        object\n",
       "Pattern_Changer              object\n",
       "Grouser_Type                 object\n",
       "Backhoe_Mounting             object\n",
       "Blade_Type                   object\n",
       "Travel_Controls              object\n",
       "Differential_Type            object\n",
       "Steering_Controls            object\n",
       "dtype: object"
      ]
     },
     "execution_count": 47,
     "metadata": {},
     "output_type": "execute_result"
    }
   ],
   "source": [
    "# Exploring train data.\n",
    "data_train.dtypes"
   ]
  },
  {
   "cell_type": "markdown",
   "id": "07f8a3c5",
   "metadata": {},
   "source": [
    "## Getting Data Ready "
   ]
  },
  {
   "cell_type": "markdown",
   "id": "25bc26ce",
   "metadata": {},
   "source": [
    "Since I realized date data was taken as object it requires reimporting as datetimeobject."
   ]
  },
  {
   "cell_type": "code",
   "execution_count": 48,
   "id": "e7f82371",
   "metadata": {},
   "outputs": [
    {
     "data": {
      "text/plain": [
       "SalesID                              int64\n",
       "SalePrice                            int64\n",
       "MachineID                            int64\n",
       "ModelID                              int64\n",
       "datasource                           int64\n",
       "auctioneerID                       float64\n",
       "YearMade                             int64\n",
       "MachineHoursCurrentMeter           float64\n",
       "UsageBand                           object\n",
       "saledate                    datetime64[ns]\n",
       "fiModelDesc                         object\n",
       "fiBaseModel                         object\n",
       "fiSecondaryDesc                     object\n",
       "fiModelSeries                       object\n",
       "fiModelDescriptor                   object\n",
       "ProductSize                         object\n",
       "fiProductClassDesc                  object\n",
       "state                               object\n",
       "ProductGroup                        object\n",
       "ProductGroupDesc                    object\n",
       "Drive_System                        object\n",
       "Enclosure                           object\n",
       "Forks                               object\n",
       "Pad_Type                            object\n",
       "Ride_Control                        object\n",
       "Stick                               object\n",
       "Transmission                        object\n",
       "Turbocharged                        object\n",
       "Blade_Extension                     object\n",
       "Blade_Width                         object\n",
       "Enclosure_Type                      object\n",
       "Engine_Horsepower                   object\n",
       "Hydraulics                          object\n",
       "Pushblock                           object\n",
       "Ripper                              object\n",
       "Scarifier                           object\n",
       "Tip_Control                         object\n",
       "Tire_Size                           object\n",
       "Coupler                             object\n",
       "Coupler_System                      object\n",
       "Grouser_Tracks                      object\n",
       "Hydraulics_Flow                     object\n",
       "Track_Type                          object\n",
       "Undercarriage_Pad_Width             object\n",
       "Stick_Length                        object\n",
       "Thumb                               object\n",
       "Pattern_Changer                     object\n",
       "Grouser_Type                        object\n",
       "Backhoe_Mounting                    object\n",
       "Blade_Type                          object\n",
       "Travel_Controls                     object\n",
       "Differential_Type                   object\n",
       "Steering_Controls                   object\n",
       "dtype: object"
      ]
     },
     "execution_count": 48,
     "metadata": {},
     "output_type": "execute_result"
    }
   ],
   "source": [
    "data_train = pd.read_csv(\"data/Train.csv\",low_memory=False,parse_dates=[\"saledate\"])\n",
    "data_train.dtypes"
   ]
  },
  {
   "cell_type": "code",
   "execution_count": 49,
   "id": "9bf6e04d",
   "metadata": {},
   "outputs": [
    {
     "name": "stdout",
     "output_type": "stream",
     "text": [
      "NaN numeric: 2 and NaN not numeric: 38\n"
     ]
    }
   ],
   "source": [
    "# Observing number of NaN data.\n",
    "\n",
    "NaN_numeric = 0\n",
    "NaN_not_numeric = 0\n",
    "\n",
    "for label,content in data_train.items():\n",
    "    if pd.isnull(content).sum() and pd.api.types.is_numeric_dtype(content):\n",
    "        NaN_numeric+=1\n",
    "    elif pd.isnull(content).sum() and (not pd.api.types.is_numeric_dtype(content)):\n",
    "        NaN_not_numeric+=1\n",
    "\n",
    "print(f\"NaN numeric: {NaN_numeric} and NaN not numeric: {NaN_not_numeric}\")        "
   ]
  },
  {
   "cell_type": "code",
   "execution_count": 50,
   "id": "2320ae97",
   "metadata": {},
   "outputs": [
    {
     "data": {
      "text/plain": [
       "SalesID                      0.000000\n",
       "SalePrice                    0.000000\n",
       "MachineID                    0.000000\n",
       "ModelID                      0.000000\n",
       "datasource                   0.000000\n",
       "auctioneerID                 5.019882\n",
       "YearMade                     0.000000\n",
       "MachineHoursCurrentMeter    64.408850\n",
       "UsageBand                   82.639078\n",
       "saledate                     0.000000\n",
       "fiModelDesc                  0.000000\n",
       "fiBaseModel                  0.000000\n",
       "fiSecondaryDesc             34.201558\n",
       "fiModelSeries               85.812901\n",
       "fiModelDescriptor           82.070676\n",
       "ProductSize                 52.545964\n",
       "fiProductClassDesc           0.000000\n",
       "state                        0.000000\n",
       "ProductGroup                 0.000000\n",
       "ProductGroupDesc             0.000000\n",
       "Drive_System                73.982923\n",
       "Enclosure                    0.081022\n",
       "Forks                       52.115425\n",
       "Pad_Type                    80.271985\n",
       "Ride_Control                62.952696\n",
       "Stick                       80.271985\n",
       "Transmission                54.320972\n",
       "Turbocharged                80.271985\n",
       "Blade_Extension             93.712932\n",
       "Blade_Width                 93.712932\n",
       "Enclosure_Type              93.712932\n",
       "Engine_Horsepower           93.712932\n",
       "Hydraulics                  20.082269\n",
       "Pushblock                   93.712932\n",
       "Ripper                      74.038766\n",
       "Scarifier                   93.710190\n",
       "Tip_Control                 93.712932\n",
       "Tire_Size                   76.386912\n",
       "Coupler                     46.662013\n",
       "Coupler_System              89.165971\n",
       "Grouser_Tracks              89.189903\n",
       "Hydraulics_Flow             89.189903\n",
       "Track_Type                  75.281271\n",
       "Undercarriage_Pad_Width     75.102026\n",
       "Stick_Length                75.265067\n",
       "Thumb                       75.247616\n",
       "Pattern_Changer             75.265067\n",
       "Grouser_Type                75.281271\n",
       "Backhoe_Mounting            80.387161\n",
       "Blade_Type                  80.097725\n",
       "Travel_Controls             80.097476\n",
       "Differential_Type           82.695918\n",
       "Steering_Controls           82.706388\n",
       "dtype: float64"
      ]
     },
     "execution_count": 50,
     "metadata": {},
     "output_type": "execute_result"
    }
   ],
   "source": [
    "# NaN values as percentage.\n",
    "data_train.isna().sum()/len(data_train)*100"
   ]
  },
  {
   "cell_type": "code",
   "execution_count": 51,
   "id": "ed58189a",
   "metadata": {},
   "outputs": [],
   "source": [
    "# Defining a function to handle NaN numeric data for later usage.\n",
    "\n",
    "def fill_missing_numeric(data_set):\n",
    "\n",
    "    for label,content in data_set.items():\n",
    "        \n",
    "        if pd.api.types.is_numeric_dtype(content) and pd.isna(content).sum():\n",
    "            \n",
    "            # Creating a new column to holding info about if cells were NaN or not.\n",
    "            data_set[label + \"_is_missing\"] = pd.isna(content)\n",
    "            # Filling missing values with median of given dataset.\n",
    "            data_set[label] = content.fillna(value = content.median())"
   ]
  },
  {
   "cell_type": "code",
   "execution_count": 52,
   "id": "42edd5a8",
   "metadata": {},
   "outputs": [],
   "source": [
    "fill_missing_numeric(data_train)"
   ]
  },
  {
   "cell_type": "code",
   "execution_count": 53,
   "id": "7352eec3",
   "metadata": {},
   "outputs": [],
   "source": [
    "# Checking for NaN numerics\n",
    "\n",
    "for label,content in data_train.items():        \n",
    "    if pd.api.types.is_numeric_dtype(content) and pd.isna(content).sum():\n",
    "        print(label)"
   ]
  },
  {
   "cell_type": "markdown",
   "id": "54d0245c",
   "metadata": {},
   "source": [
    "Prints nothing which means there is not NaN numeric anymore."
   ]
  },
  {
   "cell_type": "code",
   "execution_count": 54,
   "id": "aa178838",
   "metadata": {},
   "outputs": [
    {
     "name": "stdout",
     "output_type": "stream",
     "text": [
      "UsageBand: object\n",
      "fiSecondaryDesc: object\n",
      "fiModelSeries: object\n",
      "fiModelDescriptor: object\n",
      "ProductSize: object\n",
      "Drive_System: object\n",
      "Enclosure: object\n",
      "Forks: object\n",
      "Pad_Type: object\n",
      "Ride_Control: object\n",
      "Stick: object\n",
      "Transmission: object\n",
      "Turbocharged: object\n",
      "Blade_Extension: object\n",
      "Blade_Width: object\n",
      "Enclosure_Type: object\n",
      "Engine_Horsepower: object\n",
      "Hydraulics: object\n",
      "Pushblock: object\n",
      "Ripper: object\n",
      "Scarifier: object\n",
      "Tip_Control: object\n",
      "Tire_Size: object\n",
      "Coupler: object\n",
      "Coupler_System: object\n",
      "Grouser_Tracks: object\n",
      "Hydraulics_Flow: object\n",
      "Track_Type: object\n",
      "Undercarriage_Pad_Width: object\n",
      "Stick_Length: object\n",
      "Thumb: object\n",
      "Pattern_Changer: object\n",
      "Grouser_Type: object\n",
      "Backhoe_Mounting: object\n",
      "Blade_Type: object\n",
      "Travel_Controls: object\n",
      "Differential_Type: object\n",
      "Steering_Controls: object\n"
     ]
    }
   ],
   "source": [
    "# Observing for other NaN data.\n",
    "\n",
    "for label,content in data_train.items():        \n",
    "    if (not pd.api.types.is_numeric_dtype(content)) and pd.isna(content).sum():\n",
    "        print(f\"{label}: {data_train[label].dtype}\")\n",
    "    \n",
    "# Saledate column has no NaN row so remaining NaN values are object dtype. We are going to categorize object type data\n",
    "# to use coding system."
   ]
  },
  {
   "cell_type": "code",
   "execution_count": 55,
   "id": "87bfdcab",
   "metadata": {},
   "outputs": [],
   "source": [
    "# Defining a function to handle categorization.\n",
    "\n",
    "def convert_to_cat(data_set):\n",
    "    \n",
    "    for label,content in data_set.items():\n",
    "        if pd.api.types.is_object_dtype(content):\n",
    "            data_set[label] = data_set[label].astype('category')"
   ]
  },
  {
   "cell_type": "code",
   "execution_count": 56,
   "id": "8468f093",
   "metadata": {},
   "outputs": [],
   "source": [
    "convert_to_cat(data_train)"
   ]
  },
  {
   "cell_type": "code",
   "execution_count": 57,
   "id": "70962a23",
   "metadata": {},
   "outputs": [
    {
     "name": "stdout",
     "output_type": "stream",
     "text": [
      "UsageBand: category\n",
      "fiSecondaryDesc: category\n",
      "fiModelSeries: category\n",
      "fiModelDescriptor: category\n",
      "ProductSize: category\n",
      "Drive_System: category\n",
      "Enclosure: category\n",
      "Forks: category\n",
      "Pad_Type: category\n",
      "Ride_Control: category\n",
      "Stick: category\n",
      "Transmission: category\n",
      "Turbocharged: category\n",
      "Blade_Extension: category\n",
      "Blade_Width: category\n",
      "Enclosure_Type: category\n",
      "Engine_Horsepower: category\n",
      "Hydraulics: category\n",
      "Pushblock: category\n",
      "Ripper: category\n",
      "Scarifier: category\n",
      "Tip_Control: category\n",
      "Tire_Size: category\n",
      "Coupler: category\n",
      "Coupler_System: category\n",
      "Grouser_Tracks: category\n",
      "Hydraulics_Flow: category\n",
      "Track_Type: category\n",
      "Undercarriage_Pad_Width: category\n",
      "Stick_Length: category\n",
      "Thumb: category\n",
      "Pattern_Changer: category\n",
      "Grouser_Type: category\n",
      "Backhoe_Mounting: category\n",
      "Blade_Type: category\n",
      "Travel_Controls: category\n",
      "Differential_Type: category\n",
      "Steering_Controls: category\n"
     ]
    }
   ],
   "source": [
    "# 1. Step: Converting all objects to categorical dtype.\n",
    "\n",
    "for label,content in data_train.items():        \n",
    "    if (not pd.api.types.is_numeric_dtype(content)) and pd.isna(content).sum():\n",
    "        print(f\"{label}: {data_train[label].dtype}\")"
   ]
  },
  {
   "cell_type": "code",
   "execution_count": 58,
   "id": "f4c7cf48",
   "metadata": {},
   "outputs": [],
   "source": [
    "# 2.Step: Converting all categorical dtypes to int in dataframe.\n",
    "# Defining a function to handle.\n",
    "\n",
    "def cat_to_int(data_set):\n",
    "    \n",
    "    for label,content in data_set.items():\n",
    "        if pd.api.types.is_categorical_dtype(content):\n",
    "            \n",
    "            # Creating a new column to holding info about if cells were NaN or not.\n",
    "            data_set[label + \"_is_missing\"] = pd.isna(content)\n",
    "            # Add 1, NaN values would be zero.\n",
    "            data_set[label] = pd.Categorical(data_set[\"UsageBand\"]).codes + 1"
   ]
  },
  {
   "cell_type": "code",
   "execution_count": 59,
   "id": "a946e9fb",
   "metadata": {},
   "outputs": [],
   "source": [
    "cat_to_int(data_train)"
   ]
  },
  {
   "cell_type": "code",
   "execution_count": 60,
   "id": "1ecc0d0e",
   "metadata": {},
   "outputs": [
    {
     "name": "stdout",
     "output_type": "stream",
     "text": [
      "<class 'pandas.core.frame.DataFrame'>\n",
      "RangeIndex: 401125 entries, 0 to 401124\n",
      "Data columns (total 99 columns):\n",
      " #   Column                               Non-Null Count   Dtype         \n",
      "---  ------                               --------------   -----         \n",
      " 0   SalesID                              401125 non-null  int64         \n",
      " 1   SalePrice                            401125 non-null  int64         \n",
      " 2   MachineID                            401125 non-null  int64         \n",
      " 3   ModelID                              401125 non-null  int64         \n",
      " 4   datasource                           401125 non-null  int64         \n",
      " 5   auctioneerID                         401125 non-null  float64       \n",
      " 6   YearMade                             401125 non-null  int64         \n",
      " 7   MachineHoursCurrentMeter             401125 non-null  float64       \n",
      " 8   UsageBand                            401125 non-null  int8          \n",
      " 9   saledate                             401125 non-null  datetime64[ns]\n",
      " 10  fiModelDesc                          401125 non-null  int8          \n",
      " 11  fiBaseModel                          401125 non-null  int8          \n",
      " 12  fiSecondaryDesc                      401125 non-null  int8          \n",
      " 13  fiModelSeries                        401125 non-null  int8          \n",
      " 14  fiModelDescriptor                    401125 non-null  int8          \n",
      " 15  ProductSize                          401125 non-null  int8          \n",
      " 16  fiProductClassDesc                   401125 non-null  int8          \n",
      " 17  state                                401125 non-null  int8          \n",
      " 18  ProductGroup                         401125 non-null  int8          \n",
      " 19  ProductGroupDesc                     401125 non-null  int8          \n",
      " 20  Drive_System                         401125 non-null  int8          \n",
      " 21  Enclosure                            401125 non-null  int8          \n",
      " 22  Forks                                401125 non-null  int8          \n",
      " 23  Pad_Type                             401125 non-null  int8          \n",
      " 24  Ride_Control                         401125 non-null  int8          \n",
      " 25  Stick                                401125 non-null  int8          \n",
      " 26  Transmission                         401125 non-null  int8          \n",
      " 27  Turbocharged                         401125 non-null  int8          \n",
      " 28  Blade_Extension                      401125 non-null  int8          \n",
      " 29  Blade_Width                          401125 non-null  int8          \n",
      " 30  Enclosure_Type                       401125 non-null  int8          \n",
      " 31  Engine_Horsepower                    401125 non-null  int8          \n",
      " 32  Hydraulics                           401125 non-null  int8          \n",
      " 33  Pushblock                            401125 non-null  int8          \n",
      " 34  Ripper                               401125 non-null  int8          \n",
      " 35  Scarifier                            401125 non-null  int8          \n",
      " 36  Tip_Control                          401125 non-null  int8          \n",
      " 37  Tire_Size                            401125 non-null  int8          \n",
      " 38  Coupler                              401125 non-null  int8          \n",
      " 39  Coupler_System                       401125 non-null  int8          \n",
      " 40  Grouser_Tracks                       401125 non-null  int8          \n",
      " 41  Hydraulics_Flow                      401125 non-null  int8          \n",
      " 42  Track_Type                           401125 non-null  int8          \n",
      " 43  Undercarriage_Pad_Width              401125 non-null  int8          \n",
      " 44  Stick_Length                         401125 non-null  int8          \n",
      " 45  Thumb                                401125 non-null  int8          \n",
      " 46  Pattern_Changer                      401125 non-null  int8          \n",
      " 47  Grouser_Type                         401125 non-null  int8          \n",
      " 48  Backhoe_Mounting                     401125 non-null  int8          \n",
      " 49  Blade_Type                           401125 non-null  int8          \n",
      " 50  Travel_Controls                      401125 non-null  int8          \n",
      " 51  Differential_Type                    401125 non-null  int8          \n",
      " 52  Steering_Controls                    401125 non-null  int8          \n",
      " 53  auctioneerID_is_missing              401125 non-null  bool          \n",
      " 54  MachineHoursCurrentMeter_is_missing  401125 non-null  bool          \n",
      " 55  UsageBand_is_missing                 401125 non-null  bool          \n",
      " 56  fiModelDesc_is_missing               401125 non-null  bool          \n",
      " 57  fiBaseModel_is_missing               401125 non-null  bool          \n",
      " 58  fiSecondaryDesc_is_missing           401125 non-null  bool          \n",
      " 59  fiModelSeries_is_missing             401125 non-null  bool          \n",
      " 60  fiModelDescriptor_is_missing         401125 non-null  bool          \n",
      " 61  ProductSize_is_missing               401125 non-null  bool          \n",
      " 62  fiProductClassDesc_is_missing        401125 non-null  bool          \n",
      " 63  state_is_missing                     401125 non-null  bool          \n",
      " 64  ProductGroup_is_missing              401125 non-null  bool          \n",
      " 65  ProductGroupDesc_is_missing          401125 non-null  bool          \n",
      " 66  Drive_System_is_missing              401125 non-null  bool          \n",
      " 67  Enclosure_is_missing                 401125 non-null  bool          \n",
      " 68  Forks_is_missing                     401125 non-null  bool          \n",
      " 69  Pad_Type_is_missing                  401125 non-null  bool          \n",
      " 70  Ride_Control_is_missing              401125 non-null  bool          \n",
      " 71  Stick_is_missing                     401125 non-null  bool          \n",
      " 72  Transmission_is_missing              401125 non-null  bool          \n",
      " 73  Turbocharged_is_missing              401125 non-null  bool          \n",
      " 74  Blade_Extension_is_missing           401125 non-null  bool          \n",
      " 75  Blade_Width_is_missing               401125 non-null  bool          \n",
      " 76  Enclosure_Type_is_missing            401125 non-null  bool          \n",
      " 77  Engine_Horsepower_is_missing         401125 non-null  bool          \n",
      " 78  Hydraulics_is_missing                401125 non-null  bool          \n",
      " 79  Pushblock_is_missing                 401125 non-null  bool          \n",
      " 80  Ripper_is_missing                    401125 non-null  bool          \n",
      " 81  Scarifier_is_missing                 401125 non-null  bool          \n",
      " 82  Tip_Control_is_missing               401125 non-null  bool          \n",
      " 83  Tire_Size_is_missing                 401125 non-null  bool          \n",
      " 84  Coupler_is_missing                   401125 non-null  bool          \n",
      " 85  Coupler_System_is_missing            401125 non-null  bool          \n",
      " 86  Grouser_Tracks_is_missing            401125 non-null  bool          \n",
      " 87  Hydraulics_Flow_is_missing           401125 non-null  bool          \n",
      " 88  Track_Type_is_missing                401125 non-null  bool          \n",
      " 89  Undercarriage_Pad_Width_is_missing   401125 non-null  bool          \n",
      " 90  Stick_Length_is_missing              401125 non-null  bool          \n",
      " 91  Thumb_is_missing                     401125 non-null  bool          \n",
      " 92  Pattern_Changer_is_missing           401125 non-null  bool          \n",
      " 93  Grouser_Type_is_missing              401125 non-null  bool          \n",
      " 94  Backhoe_Mounting_is_missing          401125 non-null  bool          \n",
      " 95  Blade_Type_is_missing                401125 non-null  bool          \n",
      " 96  Travel_Controls_is_missing           401125 non-null  bool          \n",
      " 97  Differential_Type_is_missing         401125 non-null  bool          \n",
      " 98  Steering_Controls_is_missing         401125 non-null  bool          \n",
      "dtypes: bool(46), datetime64[ns](1), float64(2), int64(6), int8(44)\n",
      "memory usage: 62.0 MB\n"
     ]
    }
   ],
   "source": [
    "data_train.info()"
   ]
  },
  {
   "cell_type": "code",
   "execution_count": 61,
   "id": "33474e29",
   "metadata": {},
   "outputs": [
    {
     "data": {
      "text/html": [
       "<div>\n",
       "<style scoped>\n",
       "    .dataframe tbody tr th:only-of-type {\n",
       "        vertical-align: middle;\n",
       "    }\n",
       "\n",
       "    .dataframe tbody tr th {\n",
       "        vertical-align: top;\n",
       "    }\n",
       "\n",
       "    .dataframe thead th {\n",
       "        text-align: right;\n",
       "    }\n",
       "</style>\n",
       "<table border=\"1\" class=\"dataframe\">\n",
       "  <thead>\n",
       "    <tr style=\"text-align: right;\">\n",
       "      <th></th>\n",
       "      <th>0</th>\n",
       "      <th>1</th>\n",
       "      <th>2</th>\n",
       "      <th>3</th>\n",
       "      <th>4</th>\n",
       "    </tr>\n",
       "  </thead>\n",
       "  <tbody>\n",
       "    <tr>\n",
       "      <th>SalesID</th>\n",
       "      <td>1139246</td>\n",
       "      <td>1139248</td>\n",
       "      <td>1139249</td>\n",
       "      <td>1139251</td>\n",
       "      <td>1139253</td>\n",
       "    </tr>\n",
       "    <tr>\n",
       "      <th>SalePrice</th>\n",
       "      <td>66000</td>\n",
       "      <td>57000</td>\n",
       "      <td>10000</td>\n",
       "      <td>38500</td>\n",
       "      <td>11000</td>\n",
       "    </tr>\n",
       "    <tr>\n",
       "      <th>MachineID</th>\n",
       "      <td>999089</td>\n",
       "      <td>117657</td>\n",
       "      <td>434808</td>\n",
       "      <td>1026470</td>\n",
       "      <td>1057373</td>\n",
       "    </tr>\n",
       "    <tr>\n",
       "      <th>ModelID</th>\n",
       "      <td>3157</td>\n",
       "      <td>77</td>\n",
       "      <td>7009</td>\n",
       "      <td>332</td>\n",
       "      <td>17311</td>\n",
       "    </tr>\n",
       "    <tr>\n",
       "      <th>datasource</th>\n",
       "      <td>121</td>\n",
       "      <td>121</td>\n",
       "      <td>121</td>\n",
       "      <td>121</td>\n",
       "      <td>121</td>\n",
       "    </tr>\n",
       "    <tr>\n",
       "      <th>...</th>\n",
       "      <td>...</td>\n",
       "      <td>...</td>\n",
       "      <td>...</td>\n",
       "      <td>...</td>\n",
       "      <td>...</td>\n",
       "    </tr>\n",
       "    <tr>\n",
       "      <th>Backhoe_Mounting_is_missing</th>\n",
       "      <td>True</td>\n",
       "      <td>True</td>\n",
       "      <td>True</td>\n",
       "      <td>True</td>\n",
       "      <td>True</td>\n",
       "    </tr>\n",
       "    <tr>\n",
       "      <th>Blade_Type_is_missing</th>\n",
       "      <td>True</td>\n",
       "      <td>True</td>\n",
       "      <td>True</td>\n",
       "      <td>True</td>\n",
       "      <td>True</td>\n",
       "    </tr>\n",
       "    <tr>\n",
       "      <th>Travel_Controls_is_missing</th>\n",
       "      <td>True</td>\n",
       "      <td>True</td>\n",
       "      <td>True</td>\n",
       "      <td>True</td>\n",
       "      <td>True</td>\n",
       "    </tr>\n",
       "    <tr>\n",
       "      <th>Differential_Type_is_missing</th>\n",
       "      <td>False</td>\n",
       "      <td>False</td>\n",
       "      <td>True</td>\n",
       "      <td>True</td>\n",
       "      <td>True</td>\n",
       "    </tr>\n",
       "    <tr>\n",
       "      <th>Steering_Controls_is_missing</th>\n",
       "      <td>False</td>\n",
       "      <td>False</td>\n",
       "      <td>True</td>\n",
       "      <td>True</td>\n",
       "      <td>True</td>\n",
       "    </tr>\n",
       "  </tbody>\n",
       "</table>\n",
       "<p>99 rows × 5 columns</p>\n",
       "</div>"
      ],
      "text/plain": [
       "                                    0        1        2        3        4\n",
       "SalesID                       1139246  1139248  1139249  1139251  1139253\n",
       "SalePrice                       66000    57000    10000    38500    11000\n",
       "MachineID                      999089   117657   434808  1026470  1057373\n",
       "ModelID                          3157       77     7009      332    17311\n",
       "datasource                        121      121      121      121      121\n",
       "...                               ...      ...      ...      ...      ...\n",
       "Backhoe_Mounting_is_missing      True     True     True     True     True\n",
       "Blade_Type_is_missing            True     True     True     True     True\n",
       "Travel_Controls_is_missing       True     True     True     True     True\n",
       "Differential_Type_is_missing    False    False     True     True     True\n",
       "Steering_Controls_is_missing    False    False     True     True     True\n",
       "\n",
       "[99 rows x 5 columns]"
      ]
     },
     "execution_count": 61,
     "metadata": {},
     "output_type": "execute_result"
    }
   ],
   "source": [
    "# Conversion from cat to int is succesfull\n",
    "data_train.head(5).T"
   ]
  },
  {
   "cell_type": "code",
   "execution_count": 62,
   "id": "76ce025b",
   "metadata": {},
   "outputs": [],
   "source": [
    "# To take advantage of saledate data, we are going to split it into days, months, and years.\n",
    "# Defining a function to handle\n",
    "\n",
    "def split_years(data_set):\n",
    "    # 1. Step: Sort by date\n",
    "    data_set.sort_values(by=[\"saledate\"], axis=0,ascending=True,inplace=True)\n",
    "    # 2. Step: Split data properly\n",
    "    data_set[\"Years\"] = data_set[\"saledate\"].dt.year\n",
    "    data_set[\"Months\"] = data_set[\"saledate\"].dt.month\n",
    "    data_set[\"Days\"] = data_set[\"saledate\"].dt.day\n",
    "    data_set.drop([\"saledate\"], axis=1, inplace=True)"
   ]
  },
  {
   "cell_type": "code",
   "execution_count": 63,
   "id": "4ef12b36",
   "metadata": {},
   "outputs": [
    {
     "data": {
      "text/plain": [
       "2009    43849\n",
       "2008    39767\n",
       "2011    35197\n",
       "2010    33390\n",
       "2007    32208\n",
       "2006    21685\n",
       "2005    20463\n",
       "2004    19879\n",
       "2001    17594\n",
       "2000    17415\n",
       "2002    17246\n",
       "2003    15254\n",
       "1998    13046\n",
       "1999    12793\n",
       "1997     9785\n",
       "1996     8829\n",
       "1995     8530\n",
       "1994     7929\n",
       "1993     6303\n",
       "1992     5519\n",
       "1991     5109\n",
       "1989     4806\n",
       "1990     4529\n",
       "Name: Years, dtype: int64"
      ]
     },
     "execution_count": 63,
     "metadata": {},
     "output_type": "execute_result"
    }
   ],
   "source": [
    "split_years(data_train)\n",
    "data_train.Years.value_counts()"
   ]
  },
  {
   "cell_type": "code",
   "execution_count": 64,
   "id": "4d458886",
   "metadata": {},
   "outputs": [
    {
     "data": {
      "image/png": "[encoded data removed]",
      "text/plain": [
       "<Figure size 432x288 with 1 Axes>"
      ]
     },
     "metadata": {
      "needs_background": "light"
     },
     "output_type": "display_data"
    }
   ],
   "source": [
    "plt.hist(data_train.Years)\n",
    "\n",
    "dic1 = {'fontsize': 20, 'fontweight' : 20,'verticalalignment': 'baseline'}\n",
    "plt.title(\"Sale Amount vs Years\", fontdict = dic1)\n",
    "\n",
    "dic2 = {'fontsize': 15, 'fontweight' : 12}\n",
    "plt.xlabel(\"Years\",fontdict=dic2)\n",
    "plt.ylabel(\"Sales\",fontdict=dic2)\n",
    "\n",
    "plt.show();"
   ]
  },
  {
   "cell_type": "markdown",
   "id": "3fcbb2fd",
   "metadata": {},
   "source": [
    "### Checking Data for Modelling "
   ]
  },
  {
   "cell_type": "code",
   "execution_count": 65,
   "id": "1b52d8cd",
   "metadata": {},
   "outputs": [
    {
     "data": {
      "text/plain": [
       "SalesID                         0\n",
       "SalePrice                       0\n",
       "MachineID                       0\n",
       "ModelID                         0\n",
       "datasource                      0\n",
       "                               ..\n",
       "Differential_Type_is_missing    0\n",
       "Steering_Controls_is_missing    0\n",
       "Years                           0\n",
       "Months                          0\n",
       "Days                            0\n",
       "Length: 101, dtype: int64"
      ]
     },
     "execution_count": 65,
     "metadata": {},
     "output_type": "execute_result"
    }
   ],
   "source": [
    "# Data for training is NaN free\n",
    "data_train.isna().sum()"
   ]
  },
  {
   "cell_type": "code",
   "execution_count": 67,
   "id": "171676f4",
   "metadata": {},
   "outputs": [
    {
     "data": {
      "text/plain": [
       "bool       46\n",
       "int8       44\n",
       "int64       9\n",
       "float64     2\n",
       "dtype: int64"
      ]
     },
     "execution_count": 67,
     "metadata": {},
     "output_type": "execute_result"
    }
   ],
   "source": [
    "# Data for training is full of numeric values, which means ready for modelling.\n",
    "data_train.dtypes.value_counts()"
   ]
  },
  {
   "cell_type": "markdown",
   "id": "30c648cf",
   "metadata": {},
   "source": [
    "## Preprocessing Data for Validation "
   ]
  },
  {
   "cell_type": "markdown",
   "id": "47163c83",
   "metadata": {},
   "source": [
    "Before testing, we have to preprocess data_validation in same way with data_training."
   ]
  },
  {
   "cell_type": "code",
   "execution_count": 68,
   "id": "0fdd70f8",
   "metadata": {},
   "outputs": [
    {
     "name": "stdout",
     "output_type": "stream",
     "text": [
      "valid shape: (11573, 52)\n",
      "pure training shape: (401125, 53) \n"
     ]
    }
   ],
   "source": [
    "data_validation = pd.read_csv(\"data/Valid.csv\",low_memory=False,parse_dates=[\"saledate\"])\n",
    "print(f\"valid shape: {data_validation.shape}\")\n",
    "print(f\"pure training shape: {pure_training_shape} \")"
   ]
  },
  {
   "cell_type": "markdown",
   "id": "530d3067",
   "metadata": {},
   "source": [
    "SalesPrice of validation set has been provided separately. We are going to concatenate them."
   ]
  },
  {
   "cell_type": "code",
   "execution_count": 69,
   "id": "1c758ab9",
   "metadata": {},
   "outputs": [
    {
     "data": {
      "text/plain": [
       "(11573, 54)"
      ]
     },
     "execution_count": 69,
     "metadata": {},
     "output_type": "execute_result"
    }
   ],
   "source": [
    "data_valid_prices = pd.read_csv(\"data/ValidSolution.csv\")\n",
    "data_validation[\"SalePrices\"] = data_valid_prices[\"SalePrice\"]\n",
    "\n",
    "# Since there is no NaN in validation set (thanks to that adjustment, they are going to have same number of columns)\n",
    "data_validation[\"auctioneerID_is_missing \"] = False\n",
    "\n",
    "data_validation.shape"
   ]
  },
  {
   "cell_type": "markdown",
   "id": "c8bff24b",
   "metadata": {},
   "source": [
    "Now we are ready to perform all preprocessing on data_validation."
   ]
  },
  {
   "cell_type": "code",
   "execution_count": 70,
   "id": "1e570197",
   "metadata": {},
   "outputs": [],
   "source": [
    "fill_missing_numeric(data_validation)\n",
    "convert_to_cat(data_validation)\n",
    "cat_to_int(data_validation)\n",
    "split_years(data_validation)"
   ]
  },
  {
   "cell_type": "code",
   "execution_count": 71,
   "id": "27b097fa",
   "metadata": {},
   "outputs": [
    {
     "name": "stdout",
     "output_type": "stream",
     "text": [
      "(11573, 101) (401125, 101)\n"
     ]
    }
   ],
   "source": [
    "print(data_validation.shape,data_train.shape)"
   ]
  },
  {
   "cell_type": "markdown",
   "id": "0917843b",
   "metadata": {},
   "source": [
    "## Splitting Data "
   ]
  },
  {
   "cell_type": "code",
   "execution_count": 72,
   "id": "4b04d742",
   "metadata": {},
   "outputs": [],
   "source": [
    "X_train = data_train.drop(\"SalePrice\",axis=1)\n",
    "y_train = data_train[\"SalePrice\"]\n",
    "X_validation = data_validation.drop(\"SalePrices\",axis=1)\n",
    "y_validation = data_validation[\"SalePrices\"]"
   ]
  },
  {
   "cell_type": "markdown",
   "id": "eb06905f",
   "metadata": {},
   "source": [
    "### Now two data sets are ready for modelling and scoring! "
   ]
  },
  {
   "cell_type": "code",
   "execution_count": 73,
   "id": "1c6aa6a7",
   "metadata": {},
   "outputs": [],
   "source": [
    "# Defining a function to determine error score\n",
    "\n",
    "def rmsle(y_test, y_preds):\n",
    "    \"\"\"\n",
    "    Caculates root mean squared log error between predictions and\n",
    "    true labels.\n",
    "    \"\"\"\n",
    "    return np.sqrt(mean_squared_log_error(y_test, y_preds))"
   ]
  },
  {
   "cell_type": "markdown",
   "id": "19adb7e2",
   "metadata": {},
   "source": [
    "## Creating a model"
   ]
  },
  {
   "cell_type": "markdown",
   "id": "5238569d",
   "metadata": {},
   "source": [
    "### Trying to find best hyperparameters "
   ]
  },
  {
   "cell_type": "markdown",
   "id": "b38d9846",
   "metadata": {},
   "source": [
    "#### RandomForestRegressor "
   ]
  },
  {
   "cell_type": "markdown",
   "id": "c73cae62",
   "metadata": {},
   "source": [
    "Since the code below demands lots of cpu performance, we have ran code below on Google Colab and best params has been set."
   ]
  },
  {
   "cell_type": "raw",
   "id": "c7a9412c",
   "metadata": {},
   "source": [
    "%%time\n",
    "param_grid={\n",
    "     'max_depth': [None,3, 5,10,15,20],\n",
    "     'max_features': [0,0.5,'sqrt','auto'],\n",
    "     'min_samples_leaf': np.array([1,3,5 ,7,9 , 11, 15, 19]),\n",
    "     'min_samples_split': np.array([ 2,6,10,12,16,]),\n",
    "     'n_estimators': np.arange(10,100,10)\n",
    "}\n",
    "\n",
    "model = GridSearchCV(\n",
    "    estimator=RandomForestRegressor(n_jobs=-1,random_state=42),\n",
    "    param_grid=param_grid, \n",
    "    scoring=make_scorer(rmsle,greater_is_better=False), \n",
    "    n_jobs=-1, \n",
    "    refit=True, \n",
    "    cv=10)\n",
    "model.fit(X_train,y_train)\n",
    "rmsle(y_validation,model.predict(X_validation))"
   ]
  },
  {
   "cell_type": "markdown",
   "id": "cf5c042e",
   "metadata": {},
   "source": [
    "#### Model with Best Params"
   ]
  },
  {
   "cell_type": "code",
   "execution_count": 74,
   "id": "1d918fe0",
   "metadata": {},
   "outputs": [
    {
     "data": {
      "text/plain": [
       "0.3996060685005338"
      ]
     },
     "execution_count": 74,
     "metadata": {},
     "output_type": "execute_result"
    }
   ],
   "source": [
    "model = RandomForestRegressor(n_estimators= 90,\n",
    "                             min_samples_split= 16,\n",
    "                             min_samples_leaf= 11,\n",
    "                             max_samples= 10000,\n",
    "                             max_features= 'auto',\n",
    "                             max_depth= 10,\n",
    "                             n_jobs=1)\n",
    "model.fit(X_train,y_train)\n",
    "rmsle(y_validation,model.predict(X_validation))"
   ]
  },
  {
   "cell_type": "markdown",
   "id": "65ab74c3",
   "metadata": {},
   "source": [
    "### We succeded to improve a model to predict price with root mean squared log error: 0.3996060685005338 !!!"
   ]
  },
  {
   "cell_type": "markdown",
   "id": "3c8d20b8",
   "metadata": {},
   "source": [
    "## Feature Importance"
   ]
  },
  {
   "cell_type": "markdown",
   "id": "e4d038cf",
   "metadata": {},
   "source": [
    "Feature importance seeks to figure out which different attributes of the data were most importance when it comes to predicting the target variable (SalePrice)."
   ]
  },
  {
   "cell_type": "code",
   "execution_count": 75,
   "id": "8c9248bf",
   "metadata": {},
   "outputs": [
    {
     "data": {
      "text/plain": [
       "array([2.97738957e-02, 1.79437967e-02, 1.97770875e-01, 1.93281157e-04,\n",
       "       1.88798561e-03, 2.84500151e-01, 3.74161605e-03, 2.08328890e-05,\n",
       "       2.08655947e-05, 1.63220705e-05, 2.83063810e-05, 9.73327266e-06,\n",
       "       7.32087129e-06, 3.26178600e-05, 1.80770317e-05, 1.16190753e-05,\n",
       "       5.74245925e-08, 1.95443264e-05, 1.15050087e-05, 2.64523308e-05,\n",
       "       2.80819324e-05, 8.29971953e-06, 1.78786138e-07, 1.88032463e-05,\n",
       "       1.91387895e-05, 4.83256442e-06, 5.78992781e-08, 2.07668531e-05,\n",
       "       4.21597044e-05, 9.01468969e-06, 7.39218660e-06, 2.14735882e-05,\n",
       "       9.60035012e-06, 3.90787000e-05, 5.66024584e-06, 0.00000000e+00,\n",
       "       6.41851884e-06, 2.22335241e-05, 1.45960953e-05, 1.49267090e-05,\n",
       "       2.67971834e-05, 2.60840184e-05, 1.04372764e-05, 6.84642561e-06,\n",
       "       5.96392553e-05, 1.40123962e-07, 5.05226985e-06, 0.00000000e+00,\n",
       "       1.20707235e-07, 2.51545464e-05, 1.03405090e-05, 3.72683897e-05,\n",
       "       7.06866060e-04, 2.49897981e-05, 0.00000000e+00, 0.00000000e+00,\n",
       "       6.22381792e-03, 5.72141584e-03, 6.13875492e-02, 1.18856462e-01,\n",
       "       0.00000000e+00, 0.00000000e+00, 0.00000000e+00, 0.00000000e+00,\n",
       "       1.70293262e-03, 0.00000000e+00, 1.44544953e-03, 8.95327485e-04,\n",
       "       1.41062206e-03, 6.84239375e-04, 1.88892193e-03, 1.24286053e-03,\n",
       "       9.84829199e-03, 1.05129627e-02, 9.45026757e-03, 9.49977525e-03,\n",
       "       1.05143463e-02, 1.53075401e-02, 1.15817280e-03, 6.98572503e-03,\n",
       "       5.24036470e-03, 4.58460664e-02, 2.37613928e-03, 3.38792984e-02,\n",
       "       2.78876046e-03, 1.53928944e-03, 8.31615914e-04, 8.51622755e-03,\n",
       "       8.78249234e-04, 3.44638748e-03, 9.11086551e-04, 4.23502610e-04,\n",
       "       1.23278194e-03, 1.35559827e-03, 8.74620849e-04, 2.41692154e-03,\n",
       "       6.17244769e-04, 6.79967124e-02, 3.60032198e-03, 3.22482397e-03])"
      ]
     },
     "execution_count": 75,
     "metadata": {},
     "output_type": "execute_result"
    }
   ],
   "source": [
    "model.feature_importances_"
   ]
  },
  {
   "cell_type": "code",
   "execution_count": 76,
   "id": "7c10bb0a",
   "metadata": {},
   "outputs": [
    {
     "data": {
      "image/png": "[encoded data removed]",
      "text/plain": [
       "<Figure size 720x432 with 1 Axes>"
      ]
     },
     "metadata": {
      "needs_background": "light"
     },
     "output_type": "display_data"
    }
   ],
   "source": [
    "# Helper function for plotting feature importance\n",
    "def plot_features(columns, importances, n=20):\n",
    "    df = (pd.DataFrame({\"features\": columns,\n",
    "                        \"feature_importances\": importances})\n",
    "          .sort_values(\"feature_importances\", ascending=False)\n",
    "          .reset_index(drop=True))\n",
    "    \n",
    "    # Plot the dataframe\n",
    "    fig, ax = plt.subplots(figsize=(10,6))\n",
    "    ax.barh(df[\"features\"][:n], df[\"feature_importances\"][:20])\n",
    "    ax.set_ylabel(\"Features\",fontsize=35)\n",
    "    ax.set_title(\"Feature importance\",fontsize=25)\n",
    "    ax.invert_yaxis()\n",
    "    \n",
    "plot_features(X_train.columns,model.feature_importances_)"
   ]
  }
 ],
 "metadata": {
  "kernelspec": {
   "display_name": "Python 3 (ipykernel)",
   "language": "python",
   "name": "python3"
  },
  "language_info": {
   "codemirror_mode": {
    "name": "ipython",
    "version": 3
   },
   "file_extension": ".py",
   "mimetype": "text/x-python",
   "name": "python",
   "nbconvert_exporter": "python",
   "pygments_lexer": "ipython3",
   "version": "3.9.7"
  }
 },
 "nbformat": 4,
 "nbformat_minor": 5
}
